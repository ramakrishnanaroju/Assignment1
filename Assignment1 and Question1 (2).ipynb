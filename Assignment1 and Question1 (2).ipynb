{
 "cells": [
  {
   "cell_type": "code",
   "execution_count": null,
   "id": "53630234",
   "metadata": {},
   "outputs": [],
   "source": [
    "Write a Python program to get the Fibonacci series between 0 to 50\n",
    "\n",
    "\n",
    "Note : The Fibonacci Sequence is the series of numbers :\n",
    "\n",
    "0, 1, 1, 2, 3, 5, 8, 13, 21, ....\n",
    "\n",
    "Every next number is found by adding up the two numbers before it.\n",
    "\n",
    "Expected Output : 1 1 2 3 5 8 13 21 34\n",
    "\n"
   ]
  },
  {
   "cell_type": "code",
   "execution_count": 1,
   "id": "13e3adb2",
   "metadata": {},
   "outputs": [
    {
     "name": "stdout",
     "output_type": "stream",
     "text": [
      "the fibonacci sequence of  50 is:\n",
      "1\n",
      "1\n",
      "2\n",
      "3\n",
      "5\n",
      "8\n",
      "13\n",
      "21\n",
      "34\n"
     ]
    }
   ],
   "source": [
    "n=50\n",
    "n1=0\n",
    "n2=1\n",
    "print(\"the fibonacci sequence of \",n,\"is:\")\n",
    "while n2<n:\n",
    "    print(n2)\n",
    "    nth=n1+n2  \n",
    "    n1=n2\n",
    "    n2=nth"
   ]
  },
  {
   "cell_type": "code",
   "execution_count": null,
   "id": "11670870",
   "metadata": {},
   "outputs": [],
   "source": [
    "Write a Python program that accepts a word from the user and reverse it.\n",
    "\n",
    "Input : Edyoda\n",
    "\n",
    "output: adoydE"
   ]
  },
  {
   "cell_type": "code",
   "execution_count": 5,
   "id": "8e5203fa",
   "metadata": {},
   "outputs": [
    {
     "name": "stdout",
     "output_type": "stream",
     "text": [
      "mirrorword of the EDYODA is ADOYDE\n"
     ]
    }
   ],
   "source": [
    "word=\"EDYODA\"\n",
    "length=len(word)\n",
    "mirrorword=\"\"\n",
    "while(length>0):\n",
    "    mirrorword+=word[length-1]\n",
    "    length-=1\n",
    "print(\"mirrorword of the\",word, \"is\" ,mirrorword)"
   ]
  },
  {
   "cell_type": "code",
   "execution_count": null,
   "id": "d5546049",
   "metadata": {},
   "outputs": [],
   "source": [
    "Write a Python program to count the number of even and odd numbers from a series of numbers.\n",
    "\n",
    "Sample numbers : numbers = (1, 2, 3, 4, 5, 6, 7, 8, 9) \n",
    "\n",
    "Expected Output :\n",
    "\n",
    "Number of even numbers : 5\n",
    "\n",
    "Number of odd numbers : 4"
   ]
  },
  {
   "cell_type": "code",
   "execution_count": 10,
   "id": "b393f0df",
   "metadata": {},
   "outputs": [
    {
     "name": "stdout",
     "output_type": "stream",
     "text": [
      "the count of even numbers in the given series [1, 2, 3, 4, 5, 6, 7, 8, 9] is 4\n",
      "the count of odd numbers in the given series [1, 2, 3, 4, 5, 6, 7, 8, 9] is 5\n"
     ]
    }
   ],
   "source": [
    "L=[1, 2, 3, 4, 5, 6, 7, 8, 9]\n",
    "evencount=0\n",
    "oddcount=0\n",
    "for i in L:\n",
    "    if i%2==0:\n",
    "        evencount+=1\n",
    "    else:\n",
    "        oddcount+=1\n",
    "print(\"the count of even numbers in the given series\",L,\"is\",evencount)\n",
    "print(\"the count of odd numbers in the given series\",L,\"is\",oddcount)"
   ]
  },
  {
   "cell_type": "code",
   "execution_count": null,
   "id": "1fc809f4",
   "metadata": {},
   "outputs": [],
   "source": []
  },
  {
   "cell_type": "code",
   "execution_count": null,
   "id": "d40badf6",
   "metadata": {},
   "outputs": [],
   "source": []
  }
 ],
 "metadata": {
  "kernelspec": {
   "display_name": "Python 3",
   "language": "python",
   "name": "python3"
  },
  "language_info": {
   "codemirror_mode": {
    "name": "ipython",
    "version": 3
   },
   "file_extension": ".py",
   "mimetype": "text/x-python",
   "name": "python",
   "nbconvert_exporter": "python",
   "pygments_lexer": "ipython3",
   "version": "3.9.5"
  }
 },
 "nbformat": 4,
 "nbformat_minor": 5
}
